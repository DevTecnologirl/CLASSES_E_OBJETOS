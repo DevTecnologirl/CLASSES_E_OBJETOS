{
 "cells": [
  {
   "cell_type": "markdown",
   "id": "18985f35",
   "metadata": {},
   "source": [
    "# Aula 12: Exercícios e Desafios\n",
    "## \n",
    "- Aula 12\n",
    "    * Exercícios\n",
    "        * 1\n",
    "        * 2\n",
    "        * 3\n",
    "    * Desafios\n",
    "        * Animal\n",
    "        * Validação de Nota"
   ]
  },
  {
   "cell_type": "markdown",
   "id": "617d20e2",
   "metadata": {},
   "source": [
    "### Exercício 1:"
   ]
  },
  {
   "cell_type": "code",
   "execution_count": 21,
   "id": "76f622b1",
   "metadata": {},
   "outputs": [],
   "source": [
    "class Animal():\n",
    "    def __init__(self):\n",
    "        print('Animal criado')\n",
    "        \n",
    "    def oQueSou(self):\n",
    "        print('Animal')\n",
    "    \n",
    "    def come(self):\n",
    "        print('Comendo')\n",
    "        \n",
    "class Cachorro(Animal):\n",
    "    def __init__(self):\n",
    "        Animal.__init__(self)\n",
    "        print('Cachorro criado')\n",
    "        \n",
    "    def oQueSou(self):\n",
    "        print('Cachorro')\n",
    "    \n",
    "    def late(self):\n",
    "        print('AuAu!')\n",
    "\n",
    "class Gato(Animal):\n",
    "    \n",
    "    def __init__(self):\n",
    "        Animal.__init__(self)\n",
    "        print('Gato criado')\n",
    "        \n",
    "    def oQueSou(self):\n",
    "        print('Gato')\n",
    "    \n",
    "    def mia(self):\n",
    "        print('Miau!')"
   ]
  },
  {
   "cell_type": "markdown",
   "id": "844ac567",
   "metadata": {},
   "source": [
    "### Exercício 2:"
   ]
  },
  {
   "cell_type": "code",
   "execution_count": 56,
   "id": "48e513ee",
   "metadata": {},
   "outputs": [],
   "source": [
    "class Animal():\n",
    "    def __init__(self):\n",
    "        print('Animal criado')\n",
    "        \n",
    "    def oQueSou(self):\n",
    "        print('Animal')\n",
    "    \n",
    "    def come(self):\n",
    "        print('Comendo')\n",
    "    \n",
    "class Ave(Animal):\n",
    "    def __init__(self):\n",
    "        Animal.__init__(self)\n",
    "        print('Ave criada')\n",
    "        \n",
    "    def oQueSou(self):\n",
    "        print('Ave')\n",
    "        \n",
    "class Papagaio(Ave):\n",
    "    def __init__(self):\n",
    "        Ave.__init__(self)\n",
    "        print('Papagaio criado')\n",
    "        \n",
    "    def oQueSou(self):\n",
    "        Ave.oQueSou(self)\n",
    "        print('Papagaio')\n",
    "        \n",
    "    def fala(self):\n",
    "        print('Oi Loro!')\n",
    "        \n",
    "class Galinha(Ave):\n",
    "    def __init__(self):\n",
    "        Ave.__init__(self)\n",
    "        print('Galinha criada')\n",
    "        \n",
    "    def oQueSou(self):\n",
    "        Ave.oQueSou(self)\n",
    "        print('Galinha')\n",
    "        \n",
    "    def fala(self):\n",
    "        print('Cocó!')"
   ]
  },
  {
   "cell_type": "markdown",
   "id": "f22271b7",
   "metadata": {},
   "source": [
    "### Exercício 3:"
   ]
  },
  {
   "cell_type": "code",
   "execution_count": 157,
   "id": "ab5e7a47",
   "metadata": {},
   "outputs": [],
   "source": [
    "class Retangulo():\n",
    "    def __init__(self, altura, largura):\n",
    "        print('Retangulo criado')\n",
    "        self.altura = altura\n",
    "        self.largura = largura\n",
    "        \n",
    "    def oQueSou(self):\n",
    "        print('Forma Geométrica')\n",
    "    \n",
    "    def Area(self):\n",
    "        area = self.altura*self.largura\n",
    "        return area\n",
    "    \n",
    "class Quadrado(Retangulo):\n",
    "    def __init__(self, largura):\n",
    "        Retangulo.__init__(self,largura,largura)\n",
    "        print('Quadrado Criado')"
   ]
  },
  {
   "cell_type": "code",
   "execution_count": 160,
   "id": "01ee0a1c",
   "metadata": {
    "scrolled": true
   },
   "outputs": [
    {
     "name": "stdout",
     "output_type": "stream",
     "text": [
      "Retangulo criado\n",
      "Quadrado Criado\n"
     ]
    },
    {
     "data": {
      "text/plain": [
       "4"
      ]
     },
     "execution_count": 160,
     "metadata": {},
     "output_type": "execute_result"
    }
   ],
   "source": [
    "q = Quadrado(2)\n",
    "q.Area()"
   ]
  },
  {
   "cell_type": "markdown",
   "id": "b3dbcee4",
   "metadata": {},
   "source": [
    "### Desafio Animal:\n",
    "* 2 exemplos de resolução do Desafio. Uma das resoluções é somente com condicionais, o que é mais fácil de escrever, porém é mais difícil de acompanhar a lógica conforme escrevemos o programa. Muitas condicionais em sequência devem ser evitadas para facilitar a depuração do código. \n",
    "* A outra resolução é com base em classes, o que facilita muito a localização dos problemas na hora de depurar o código"
   ]
  },
  {
   "cell_type": "code",
   "execution_count": 138,
   "id": "8a33fe28",
   "metadata": {},
   "outputs": [
    {
     "ename": "KeyboardInterrupt",
     "evalue": "Interrupted by user",
     "output_type": "error",
     "traceback": [
      "\u001b[1;31m---------------------------------------------------------------------------\u001b[0m",
      "\u001b[1;31mKeyboardInterrupt\u001b[0m                         Traceback (most recent call last)",
      "Input \u001b[1;32mIn [138]\u001b[0m, in \u001b[0;36m<cell line: 28>\u001b[1;34m()\u001b[0m\n\u001b[0;32m     27\u001b[0m entrada \u001b[38;5;241m=\u001b[39m [\u001b[38;5;28;01mNone\u001b[39;00m]\u001b[38;5;241m*\u001b[39m\u001b[38;5;241m3\u001b[39m\n\u001b[0;32m     28\u001b[0m \u001b[38;5;28;01mfor\u001b[39;00m i \u001b[38;5;129;01min\u001b[39;00m \u001b[38;5;28mrange\u001b[39m(\u001b[38;5;241m3\u001b[39m):\n\u001b[1;32m---> 29\u001b[0m     entrada[i] \u001b[38;5;241m=\u001b[39m \u001b[38;5;28mstr\u001b[39m(\u001b[38;5;28;43minput\u001b[39;49m\u001b[43m(\u001b[49m\u001b[43m)\u001b[49m)\n\u001b[0;32m     30\u001b[0m saida \u001b[38;5;241m=\u001b[39m Animal(entrada[\u001b[38;5;241m0\u001b[39m],entrada[\u001b[38;5;241m1\u001b[39m],entrada[\u001b[38;5;241m2\u001b[39m])\n",
      "File \u001b[1;32m~\\anaconda3\\lib\\site-packages\\ipykernel\\kernelbase.py:1075\u001b[0m, in \u001b[0;36mKernel.raw_input\u001b[1;34m(self, prompt)\u001b[0m\n\u001b[0;32m   1071\u001b[0m \u001b[38;5;28;01mif\u001b[39;00m \u001b[38;5;129;01mnot\u001b[39;00m \u001b[38;5;28mself\u001b[39m\u001b[38;5;241m.\u001b[39m_allow_stdin:\n\u001b[0;32m   1072\u001b[0m     \u001b[38;5;28;01mraise\u001b[39;00m StdinNotImplementedError(\n\u001b[0;32m   1073\u001b[0m         \u001b[38;5;124m\"\u001b[39m\u001b[38;5;124mraw_input was called, but this frontend does not support input requests.\u001b[39m\u001b[38;5;124m\"\u001b[39m\n\u001b[0;32m   1074\u001b[0m     )\n\u001b[1;32m-> 1075\u001b[0m \u001b[38;5;28;01mreturn\u001b[39;00m \u001b[38;5;28;43mself\u001b[39;49m\u001b[38;5;241;43m.\u001b[39;49m\u001b[43m_input_request\u001b[49m\u001b[43m(\u001b[49m\n\u001b[0;32m   1076\u001b[0m \u001b[43m    \u001b[49m\u001b[38;5;28;43mstr\u001b[39;49m\u001b[43m(\u001b[49m\u001b[43mprompt\u001b[49m\u001b[43m)\u001b[49m\u001b[43m,\u001b[49m\n\u001b[0;32m   1077\u001b[0m \u001b[43m    \u001b[49m\u001b[38;5;28;43mself\u001b[39;49m\u001b[38;5;241;43m.\u001b[39;49m\u001b[43m_parent_ident\u001b[49m\u001b[43m[\u001b[49m\u001b[38;5;124;43m\"\u001b[39;49m\u001b[38;5;124;43mshell\u001b[39;49m\u001b[38;5;124;43m\"\u001b[39;49m\u001b[43m]\u001b[49m\u001b[43m,\u001b[49m\n\u001b[0;32m   1078\u001b[0m \u001b[43m    \u001b[49m\u001b[38;5;28;43mself\u001b[39;49m\u001b[38;5;241;43m.\u001b[39;49m\u001b[43mget_parent\u001b[49m\u001b[43m(\u001b[49m\u001b[38;5;124;43m\"\u001b[39;49m\u001b[38;5;124;43mshell\u001b[39;49m\u001b[38;5;124;43m\"\u001b[39;49m\u001b[43m)\u001b[49m\u001b[43m,\u001b[49m\n\u001b[0;32m   1079\u001b[0m \u001b[43m    \u001b[49m\u001b[43mpassword\u001b[49m\u001b[38;5;241;43m=\u001b[39;49m\u001b[38;5;28;43;01mFalse\u001b[39;49;00m\u001b[43m,\u001b[49m\n\u001b[0;32m   1080\u001b[0m \u001b[43m\u001b[49m\u001b[43m)\u001b[49m\n",
      "File \u001b[1;32m~\\anaconda3\\lib\\site-packages\\ipykernel\\kernelbase.py:1120\u001b[0m, in \u001b[0;36mKernel._input_request\u001b[1;34m(self, prompt, ident, parent, password)\u001b[0m\n\u001b[0;32m   1117\u001b[0m             \u001b[38;5;28;01mbreak\u001b[39;00m\n\u001b[0;32m   1118\u001b[0m \u001b[38;5;28;01mexcept\u001b[39;00m \u001b[38;5;167;01mKeyboardInterrupt\u001b[39;00m:\n\u001b[0;32m   1119\u001b[0m     \u001b[38;5;66;03m# re-raise KeyboardInterrupt, to truncate traceback\u001b[39;00m\n\u001b[1;32m-> 1120\u001b[0m     \u001b[38;5;28;01mraise\u001b[39;00m \u001b[38;5;167;01mKeyboardInterrupt\u001b[39;00m(\u001b[38;5;124m\"\u001b[39m\u001b[38;5;124mInterrupted by user\u001b[39m\u001b[38;5;124m\"\u001b[39m) \u001b[38;5;28;01mfrom\u001b[39;00m \u001b[38;5;28mNone\u001b[39m\n\u001b[0;32m   1121\u001b[0m \u001b[38;5;28;01mexcept\u001b[39;00m \u001b[38;5;167;01mException\u001b[39;00m:\n\u001b[0;32m   1122\u001b[0m     \u001b[38;5;28mself\u001b[39m\u001b[38;5;241m.\u001b[39mlog\u001b[38;5;241m.\u001b[39mwarning(\u001b[38;5;124m\"\u001b[39m\u001b[38;5;124mInvalid Message:\u001b[39m\u001b[38;5;124m\"\u001b[39m, exc_info\u001b[38;5;241m=\u001b[39m\u001b[38;5;28;01mTrue\u001b[39;00m)\n",
      "\u001b[1;31mKeyboardInterrupt\u001b[0m: Interrupted by user"
     ]
    }
   ],
   "source": [
    "class Animal():\n",
    "    def __init__(self,subfilo, subclasse, grupo):\n",
    "        self.subfilo,self.subclasse,self.grupo = subfilo, subclasse, grupo\n",
    "        if self.subfilo == 'vertebrado':\n",
    "            if self.subclasse == 'ave':\n",
    "                if self.grupo == 'carnivoro':\n",
    "                    print('aguia')\n",
    "                elif self.grupo == 'onivoro':\n",
    "                    print('pomba')\n",
    "            elif self.subclasse == 'mamifero':\n",
    "                if self.grupo == 'onivoro':\n",
    "                    print('homem')\n",
    "                elif self.grupo == 'herbivoro':\n",
    "                    print('vaca')\n",
    "        elif self.subfilo == 'invertebrado':\n",
    "            if self.subclasse == 'inseto':\n",
    "                if self.grupo == 'hematofago':\n",
    "                    print('pulga')\n",
    "                elif self.grupo == 'herbivoro':\n",
    "                    print('lagarta')\n",
    "            elif self.subclasse == 'anelideo':\n",
    "                if self.grupo == 'hematofago':\n",
    "                    print('sanguessuga')\n",
    "                elif self.grupo == 'onivoro':\n",
    "                    print('minhoca')\n",
    "                    \n",
    "entrada = [None]*3\n",
    "for i in range(3):\n",
    "    entrada[i] = str(input())\n",
    "saida = Animal(entrada[0],entrada[1],entrada[2])"
   ]
  },
  {
   "cell_type": "code",
   "execution_count": 166,
   "id": "e6904d0e",
   "metadata": {},
   "outputs": [
    {
     "name": "stdout",
     "output_type": "stream",
     "text": [
      "jhbdiugrf\n",
      "knidwiophgnewf\n",
      "jkhnsdfgiower\n"
     ]
    }
   ],
   "source": [
    "class Animal():\n",
    "    def __init__(self,subfilo, subclasse, grupo):\n",
    "        self.subfilo,self.subclasse,self.grupo = subfilo, subclasse, grupo\n",
    "        if self.subfilo == 'vertebrado':\n",
    "            individuo = Vertebrado(self.subclasse,self.grupo)\n",
    "        elif self.subfilo == 'invertebrado':\n",
    "            individuo = Invertebrado(self.subclasse,self.grupo)\n",
    "\n",
    "class Vertebrado(Animal):\n",
    "    def __init__(self,subclasse,grupo):\n",
    "        self.subclasse,self.grupo = subclasse, grupo\n",
    "        if self.subclasse == 'ave':\n",
    "            individuo = Ave(self.grupo)\n",
    "        elif self.subclasse == 'mamifero':\n",
    "            individuo = Mamifero(self.grupo)\n",
    "            \n",
    "class Invertebrado(Animal):\n",
    "    def __init__(self,subclasse,grupo):\n",
    "        self.subclasse,self.grupo = subclasse, grupo\n",
    "        if self.subclasse == 'inseto':\n",
    "            individuo = Inseto(self.grupo)\n",
    "        elif self.subclasse == 'anelideo':\n",
    "            individuo = Anelideo(self.grupo)\n",
    "\n",
    "class Ave(Vertebrado):\n",
    "    def __init__(self,grupo):\n",
    "        self.grupo = grupo\n",
    "        if self.grupo == 'carnivoro':\n",
    "            print('aguia')\n",
    "        elif self.grupo == 'onivoro':\n",
    "            print('pomba')\n",
    "            \n",
    "class Mamifero(Vertebrado):\n",
    "    def __init__(self,grupo):\n",
    "        self.grupo = grupo\n",
    "        if self.grupo == 'onivoro':\n",
    "            print('homem')\n",
    "        elif self.grupo == 'herbivoro':\n",
    "            print('vaca')           \n",
    "\n",
    "class Inseto(Invertebrado):\n",
    "    def __init__(self,grupo):\n",
    "        self.grupo = grupo\n",
    "        if self.grupo == 'hematofago':\n",
    "            print('pulga')\n",
    "        elif self.grupo == 'herbivoro':\n",
    "            print('lagarta')\n",
    "            \n",
    "class Anelideo(Vertebrado):\n",
    "    def __init__(self,grupo):\n",
    "        self.grupo = grupo\n",
    "        if self.grupo == 'hematofago':\n",
    "            print('sanguessuga')\n",
    "        elif self.grupo == 'onivoro':\n",
    "            print('minhoca')     \n",
    "            \n",
    "entrada = [None]*3\n",
    "for i in range(3):\n",
    "    entrada[i] = str(input())\n",
    "saida = Animal(entrada[0],entrada[1],entrada[2])"
   ]
  },
  {
   "cell_type": "markdown",
   "id": "693b2f52",
   "metadata": {},
   "source": [
    "### Desafio Validação de Nota:"
   ]
  },
  {
   "cell_type": "code",
   "execution_count": 165,
   "id": "4bfca631",
   "metadata": {},
   "outputs": [
    {
     "name": "stdout",
     "output_type": "stream",
     "text": [
      "1\n",
      "3\n",
      "2.00\n"
     ]
    }
   ],
   "source": [
    "lista = []\n",
    "\n",
    "class Nota():\n",
    "    def __init__(self, nota):\n",
    "        self.nota = nota\n",
    "        \n",
    "    def Valida(self):\n",
    "        if 0 <= self.nota <= 10:\n",
    "            return True\n",
    "        else:\n",
    "            return False\n",
    "\n",
    "while len(lista) != 2:\n",
    "    lista.clear()\n",
    "    for i in range(2):\n",
    "        entrada[i] = float(input())\n",
    "        if Nota(entrada[i]).Valida() == True:\n",
    "            lista.append(entrada[i])\n",
    "    if len(lista) != 2:\n",
    "        print('nota invalida')\n",
    "\n",
    "media = (lista[0] + lista[1])/2\n",
    "\n",
    "print('{:.2f}'.format(media))"
   ]
  }
 ],
 "metadata": {
  "kernelspec": {
   "display_name": "Python 3 (ipykernel)",
   "language": "python",
   "name": "python3"
  },
  "language_info": {
   "codemirror_mode": {
    "name": "ipython",
    "version": 3
   },
   "file_extension": ".py",
   "mimetype": "text/x-python",
   "name": "python",
   "nbconvert_exporter": "python",
   "pygments_lexer": "ipython3",
   "version": "3.9.12"
  }
 },
 "nbformat": 4,
 "nbformat_minor": 5
}
