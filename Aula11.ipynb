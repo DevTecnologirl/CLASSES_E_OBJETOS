{
 "cells": [
  {
   "cell_type": "markdown",
   "metadata": {},
   "source": [
    "# Programação Orientada à Objetos"
   ]
  },
  {
   "cell_type": "markdown",
   "metadata": {},
   "source": [
    "## Classes"
   ]
  },
  {
   "cell_type": "code",
   "execution_count": 1,
   "metadata": {},
   "outputs": [],
   "source": [
    "#classe vazia, o comando \"pass\" informa que a classe faz nada.\n",
    "class Casa():\n",
    "    pass"
   ]
  },
  {
   "cell_type": "markdown",
   "metadata": {},
   "source": [
    "## Atributos"
   ]
  },
  {
   "cell_type": "code",
   "execution_count": null,
   "metadata": {},
   "outputs": [],
   "source": [
    "class Casa():\n",
    "    # três atributos diferentes\n",
    "    rua = \"Blue Street\"\n",
    "    bairro = \"Good Neighborhood\"\n",
    "    CEP = \"123654\""
   ]
  },
  {
   "cell_type": "markdown",
   "metadata": {},
   "source": [
    "## Métodos"
   ]
  },
  {
   "cell_type": "code",
   "execution_count": 2,
   "metadata": {},
   "outputs": [],
   "source": [
    "class Casa():\n",
    "    rua = \"Blue Street\"\n",
    "    bairro = \"Good Neighborhood\"\n",
    "    CEP = \"123654\"\n",
    "        \n",
    "    def enderecoCompleto(self):\n",
    "        return \"Endereço Completo: \"+self.rua+ \", \"+ self.bairro+ \" - CEP: \"+ self.CEP"
   ]
  },
  {
   "cell_type": "markdown",
   "metadata": {},
   "source": [
    "## Objetos"
   ]
  },
  {
   "cell_type": "code",
   "execution_count": 3,
   "metadata": {},
   "outputs": [
    {
     "name": "stdout",
     "output_type": "stream",
     "text": [
      "<class 'int'>\n",
      "<class 'list'>\n"
     ]
    }
   ],
   "source": [
    "#Verificando a classe dos objetos\n",
    "numero = 1\n",
    "print(type(numero))\n",
    "lista = [1,2,3]\n",
    "print(type(lista))"
   ]
  },
  {
   "cell_type": "code",
   "execution_count": 4,
   "metadata": {},
   "outputs": [
    {
     "name": "stdout",
     "output_type": "stream",
     "text": [
      "<class '__main__.Casa'>\n"
     ]
    }
   ],
   "source": [
    "casa1 = Casa()\n",
    "print(type(casa1))"
   ]
  },
  {
   "cell_type": "code",
   "execution_count": null,
   "metadata": {},
   "outputs": [],
   "source": [
    "#acessando atributo de um objeto\n",
    "print(casa1.CEP)\n",
    "\n",
    "#acessando método de um objeto\n",
    "print(casa1.enderecoCompleto())"
   ]
  },
  {
   "cell_type": "markdown",
   "metadata": {},
   "source": [
    "## Método Inicializador"
   ]
  },
  {
   "cell_type": "code",
   "execution_count": 5,
   "metadata": {},
   "outputs": [],
   "source": [
    "class Casa():\n",
    "    \n",
    "    def __init__(self, rua, bairro, CEP):\n",
    "        self.rua = rua\n",
    "        self.bairro = bairro\n",
    "        self.CEP = CEP\n",
    "        \n",
    "    def enderecoCompleto(self):\n",
    "        return \"Endereço Completo: \"+self.rua+ \", \"+ self.bairro+ \" - CEP: \"+ self.CEP"
   ]
  },
  {
   "cell_type": "code",
   "execution_count": 11,
   "metadata": {},
   "outputs": [
    {
     "name": "stdout",
     "output_type": "stream",
     "text": [
      "Endereço Completo: Blue Street, Good Neighborhood - CEP: 123654\n",
      "Endereço Completo: Street A, Golden Houses - CEP: 123987\n"
     ]
    }
   ],
   "source": [
    "#instanciando dois objetos diferentes\n",
    "\n",
    "casa1 = Casa(rua=\"Blue Street\", bairro=\"Good Neighborhood\", CEP=\"123654\" )\n",
    "\n",
    "casa2 = Casa(rua=\"Street A\", bairro=\"Golden Houses\", CEP=\"123987\" )\n",
    "\n",
    "print(casa1.enderecoCompleto())\n",
    "\n",
    "print(casa2.enderecoCompleto())\n"
   ]
  },
  {
   "cell_type": "code",
   "execution_count": 10,
   "metadata": {},
   "outputs": [
    {
     "name": "stdout",
     "output_type": "stream",
     "text": [
      "Endereço Completo: Street B, Central - CEP: 123678\n"
     ]
    }
   ],
   "source": [
    "# passando argumentos na ordem\n",
    "\n",
    "casa3 = Casa(\"Street B\", \"Central\", \"123678\" )\n",
    "print(casa3.enderecoCompleto())"
   ]
  },
  {
   "cell_type": "markdown",
   "metadata": {},
   "source": [
    "## Atributos da Classe"
   ]
  },
  {
   "cell_type": "code",
   "execution_count": 1,
   "metadata": {},
   "outputs": [],
   "source": [
    "class Casa():\n",
    "    \n",
    "    imobiliaria = \"Ctrl Imóveis\"\n",
    "    \n",
    "    def __init__(self, rua, bairro, CEP):\n",
    "        self.rua = rua\n",
    "        self.bairro = bairro\n",
    "        self.CEP = CEP\n",
    "        \n",
    "    def enderecoCompleto(self):\n",
    "        return \"Endereço Completo: \"+self.rua+ \", \"+ self.bairro+ \" - CEP: \"+ self.CEP"
   ]
  },
  {
   "cell_type": "code",
   "execution_count": 2,
   "metadata": {},
   "outputs": [],
   "source": [
    "casa1 = Casa(\"Rua A\", \"Bairro Python\", \"123456\")\n",
    "casa2 = Casa(\"Segunda Avenida\", \"Bairro POO\", \"1234353\")\n",
    "casa3 = Casa(\"Rua Ctrl+Play\", \"Bairro Programação e Robótica\", \"312343\")"
   ]
  },
  {
   "cell_type": "code",
   "execution_count": 3,
   "metadata": {},
   "outputs": [
    {
     "name": "stdout",
     "output_type": "stream",
     "text": [
      "Ctrl Imóveis\n",
      "Ctrl Imóveis\n",
      "Ctrl Imóveis\n"
     ]
    }
   ],
   "source": [
    "print(casa1.imobiliaria)\n",
    "print(casa2.imobiliaria)\n",
    "print(casa3.imobiliaria)"
   ]
  },
  {
   "cell_type": "markdown",
   "metadata": {},
   "source": [
    "# Exercícios"
   ]
  },
  {
   "cell_type": "code",
   "execution_count": 4,
   "metadata": {},
   "outputs": [],
   "source": [
    "#Crie uma classe que calcula a área do Círculo\n",
    "\n",
    "class Circle(object):\n",
    "    pi = 3.14\n",
    "\n",
    "    # O círculo é instanciado com um raio (o padrão é 1)\n",
    "    def __init__(self, radius=1):\n",
    "        self.radius = radius \n",
    "\n",
    "    # Método de cálculo da área. Observe o uso de si mesmo.\n",
    "    def area(self):\n",
    "        return self.radius * self.radius * Circle.pi\n",
    "\n",
    "    # Método que redefine a área\n",
    "    def setRadius(self, radius):\n",
    "        self.radius = radius\n",
    "\n",
    "    # Método para obter raio (Mesmo que apenas chamar .radius)\n",
    "    def getRadius(self):\n",
    "        return self.radius\n"
   ]
  }
 ],
 "metadata": {
  "kernelspec": {
   "display_name": "Python 3",
   "language": "python",
   "name": "python3"
  },
  "language_info": {
   "codemirror_mode": {
    "name": "ipython",
    "version": 3
   },
   "file_extension": ".py",
   "mimetype": "text/x-python",
   "name": "python",
   "nbconvert_exporter": "python",
   "pygments_lexer": "ipython3",
   "version": "3.10.9"
  }
 },
 "nbformat": 4,
 "nbformat_minor": 2
}
